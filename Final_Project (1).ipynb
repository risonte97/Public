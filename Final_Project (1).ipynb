{
 "cells": [
  {
   "cell_type": "markdown",
   "metadata": {},
   "source": [
    "# Задание 1. A/B–тестирование"
   ]
  },
  {
   "cell_type": "markdown",
   "metadata": {},
   "source": [
    "1.1 Условие\n",
    "\n",
    "Одной из основных задач аналитика в нашей команде является корректное проведение экспериментов. \n",
    "\n",
    "Для этого мы применяем метод A/B–тестирования. \n",
    "\n",
    "В ходе тестирования одной гипотезы целевой группе была предложена новая механика оплаты услуг на сайте, \n",
    "\n",
    "у контрольной группы оставалась базовая механика. В качестве задания вам необходимо проанализировать итоги эксперимента \n",
    "\n",
    "и сделать вывод, стоит ли запускать новую механику оплаты на всех пользователей."
   ]
  },
  {
   "cell_type": "markdown",
   "metadata": {},
   "source": [
    "# Входные данные\n",
    "\n",
    "В качестве входных данных мы имеем 4 csv-файла:\n",
    "\n",
    "1. groups.csv – файл с информацией о принадлежности пользователя к контрольной или экспериментальной группе \n",
    "   (А – контроль, B – целевая группа) \n",
    "2. groups_add.csv – дополнительный файл с пользователями, который вам прислали спустя 2 дня после передачи данных\n",
    "3. active_studs.csv – файл с информацией о пользователях, которые зашли на платформу в дни проведения эксперимента. \n",
    "4. checks.csv – файл с информацией об оплатах пользователей в дни проведения эксперимента. "
   ]
  },
  {
   "cell_type": "code",
   "execution_count": 7,
   "metadata": {},
   "outputs": [],
   "source": [
    "import pandas as pd\n",
    "import numpy as np\n",
    "import pandahouse as ph\n",
    "import seaborn as sns\n",
    "import matplotlib.pyplot as plt\n",
    "import os\n",
    "import scipy.stats as ss\n",
    "from scipy.stats import shapiro\n",
    "from scipy.stats import ttest_ind\n",
    "import pandas as pd\n",
    "import requests\n",
    "from urllib.parse import urlencode\n",
    "from io import StringIO"
   ]
  },
  {
   "cell_type": "markdown",
   "metadata": {},
   "source": [
    "# EDA анализ"
   ]
  },
  {
   "cell_type": "code",
   "execution_count": 8,
   "metadata": {},
   "outputs": [],
   "source": [
    "def read_yandex_disk(public_key, sep=','):\n",
    "    base_url = 'https://cloud-api.yandex.net/v1/disk/public/resources/download?' \n",
    "\n",
    "    final_url = base_url + urlencode(dict(public_key=public_key)) \n",
    "    response = requests.get(final_url) \n",
    "    download_url = response.json()['href'] \n",
    "\n",
    "    # загружаем файл\n",
    "    response = requests.get(download_url)\n",
    "    data = response.content.decode('utf-8')\n",
    "\n",
    "    # читаем данные в DataFrame\n",
    "    df = pd.read_csv(StringIO(data), sep=sep) \n",
    "    return df"
   ]
  },
  {
   "cell_type": "code",
   "execution_count": 10,
   "metadata": {},
   "outputs": [],
   "source": [
    "groups        = read_yandex_disk('https://disk.yandex.ru/d/UhyYx41rTt3clQ', ';')\n",
    "groups_add    = read_yandex_disk('https://disk.yandex.ru/d/5Kxrz02m3IBUwQ')\n",
    "active_studs  = read_yandex_disk('https://disk.yandex.ru/d/Tbs44Bm6H_FwFQ')\n",
    "checks        = read_yandex_disk('https://disk.yandex.ru/d/pH1q-VqcxXjsVA', ';')"
   ]
  },
  {
   "cell_type": "code",
   "execution_count": 11,
   "metadata": {
    "scrolled": true
   },
   "outputs": [
    {
     "name": "stdout",
     "output_type": "stream",
     "text": [
      "<class 'pandas.core.frame.DataFrame'>\n",
      "RangeIndex: 74484 entries, 0 to 74483\n",
      "Data columns (total 2 columns):\n",
      " #   Column  Non-Null Count  Dtype \n",
      "---  ------  --------------  ----- \n",
      " 0   id      74484 non-null  int64 \n",
      " 1   grp     74484 non-null  object\n",
      "dtypes: int64(1), object(1)\n",
      "memory usage: 1.1+ MB\n"
     ]
    },
    {
     "data": {
      "text/plain": [
       "id     74484\n",
       "grp        2\n",
       "dtype: int64"
      ]
     },
     "execution_count": 11,
     "metadata": {},
     "output_type": "execute_result"
    }
   ],
   "source": [
    "groups.info()\n",
    "groups.nunique()\n",
    "# проверка на дупликаты"
   ]
  },
  {
   "cell_type": "code",
   "execution_count": 140,
   "metadata": {},
   "outputs": [
    {
     "name": "stdout",
     "output_type": "stream",
     "text": [
      "<class 'pandas.core.frame.DataFrame'>\n",
      "RangeIndex: 92 entries, 0 to 91\n",
      "Data columns (total 2 columns):\n",
      " #   Column  Non-Null Count  Dtype \n",
      "---  ------  --------------  ----- \n",
      " 0   id      92 non-null     int64 \n",
      " 1   grp     92 non-null     object\n",
      "dtypes: int64(1), object(1)\n",
      "memory usage: 1.6+ KB\n"
     ]
    },
    {
     "data": {
      "text/plain": [
       "id     92\n",
       "grp     2\n",
       "dtype: int64"
      ]
     },
     "execution_count": 140,
     "metadata": {},
     "output_type": "execute_result"
    }
   ],
   "source": [
    "groups_add.info()\n",
    "groups_add.nunique()\n",
    "# проверка на дупликаты"
   ]
  },
  {
   "cell_type": "code",
   "execution_count": 141,
   "metadata": {},
   "outputs": [
    {
     "name": "stdout",
     "output_type": "stream",
     "text": [
      "<class 'pandas.core.frame.DataFrame'>\n",
      "RangeIndex: 8341 entries, 0 to 8340\n",
      "Data columns (total 1 columns):\n",
      " #   Column      Non-Null Count  Dtype\n",
      "---  ------      --------------  -----\n",
      " 0   student_id  8341 non-null   int64\n",
      "dtypes: int64(1)\n",
      "memory usage: 65.3 KB\n"
     ]
    },
    {
     "data": {
      "text/plain": [
       "student_id    8341\n",
       "dtype: int64"
      ]
     },
     "execution_count": 141,
     "metadata": {},
     "output_type": "execute_result"
    }
   ],
   "source": [
    "active_studs.info()\n",
    "active_studs.nunique()\n",
    "# проверка на дупликаты"
   ]
  },
  {
   "cell_type": "code",
   "execution_count": 142,
   "metadata": {},
   "outputs": [
    {
     "name": "stdout",
     "output_type": "stream",
     "text": [
      "<class 'pandas.core.frame.DataFrame'>\n",
      "RangeIndex: 541 entries, 0 to 540\n",
      "Data columns (total 2 columns):\n",
      " #   Column      Non-Null Count  Dtype  \n",
      "---  ------      --------------  -----  \n",
      " 0   student_id  541 non-null    int64  \n",
      " 1   rev         541 non-null    float64\n",
      "dtypes: float64(1), int64(1)\n",
      "memory usage: 8.6 KB\n"
     ]
    },
    {
     "data": {
      "text/plain": [
       "student_id    541\n",
       "rev            39\n",
       "dtype: int64"
      ]
     },
     "execution_count": 142,
     "metadata": {},
     "output_type": "execute_result"
    }
   ],
   "source": [
    "checks.info()\n",
    "checks.nunique()\n",
    "# проверка на дупликаты"
   ]
  },
  {
   "cell_type": "code",
   "execution_count": 143,
   "metadata": {
    "scrolled": true
   },
   "outputs": [
    {
     "data": {
      "text/html": [
       "<div>\n",
       "<style scoped>\n",
       "    .dataframe tbody tr th:only-of-type {\n",
       "        vertical-align: middle;\n",
       "    }\n",
       "\n",
       "    .dataframe tbody tr th {\n",
       "        vertical-align: top;\n",
       "    }\n",
       "\n",
       "    .dataframe thead th {\n",
       "        text-align: right;\n",
       "    }\n",
       "</style>\n",
       "<table border=\"1\" class=\"dataframe\">\n",
       "  <thead>\n",
       "    <tr style=\"text-align: right;\">\n",
       "      <th></th>\n",
       "      <th>id</th>\n",
       "      <th>grp</th>\n",
       "    </tr>\n",
       "  </thead>\n",
       "  <tbody>\n",
       "    <tr>\n",
       "      <th>0</th>\n",
       "      <td>1489</td>\n",
       "      <td>B</td>\n",
       "    </tr>\n",
       "    <tr>\n",
       "      <th>1</th>\n",
       "      <td>1627</td>\n",
       "      <td>A</td>\n",
       "    </tr>\n",
       "    <tr>\n",
       "      <th>2</th>\n",
       "      <td>1768</td>\n",
       "      <td>B</td>\n",
       "    </tr>\n",
       "    <tr>\n",
       "      <th>3</th>\n",
       "      <td>1783</td>\n",
       "      <td>B</td>\n",
       "    </tr>\n",
       "    <tr>\n",
       "      <th>4</th>\n",
       "      <td>1794</td>\n",
       "      <td>A</td>\n",
       "    </tr>\n",
       "    <tr>\n",
       "      <th>...</th>\n",
       "      <td>...</td>\n",
       "      <td>...</td>\n",
       "    </tr>\n",
       "    <tr>\n",
       "      <th>87</th>\n",
       "      <td>200247820</td>\n",
       "      <td>B</td>\n",
       "    </tr>\n",
       "    <tr>\n",
       "      <th>88</th>\n",
       "      <td>201032527</td>\n",
       "      <td>B</td>\n",
       "    </tr>\n",
       "    <tr>\n",
       "      <th>89</th>\n",
       "      <td>201067612</td>\n",
       "      <td>B</td>\n",
       "    </tr>\n",
       "    <tr>\n",
       "      <th>90</th>\n",
       "      <td>201067653</td>\n",
       "      <td>B</td>\n",
       "    </tr>\n",
       "    <tr>\n",
       "      <th>91</th>\n",
       "      <td>201067659</td>\n",
       "      <td>B</td>\n",
       "    </tr>\n",
       "  </tbody>\n",
       "</table>\n",
       "<p>74576 rows × 2 columns</p>\n",
       "</div>"
      ],
      "text/plain": [
       "           id grp\n",
       "0        1489   B\n",
       "1        1627   A\n",
       "2        1768   B\n",
       "3        1783   B\n",
       "4        1794   A\n",
       "..        ...  ..\n",
       "87  200247820   B\n",
       "88  201032527   B\n",
       "89  201067612   B\n",
       "90  201067653   B\n",
       "91  201067659   B\n",
       "\n",
       "[74576 rows x 2 columns]"
      ]
     },
     "execution_count": 143,
     "metadata": {},
     "output_type": "execute_result"
    }
   ],
   "source": [
    "full_groups = pd.concat([groups, groups_add])\n",
    "full_groups\n",
    "# добавляем дополнительных пользователей"
   ]
  },
  {
   "cell_type": "code",
   "execution_count": 144,
   "metadata": {
    "scrolled": true
   },
   "outputs": [
    {
     "data": {
      "text/html": [
       "<div>\n",
       "<style scoped>\n",
       "    .dataframe tbody tr th:only-of-type {\n",
       "        vertical-align: middle;\n",
       "    }\n",
       "\n",
       "    .dataframe tbody tr th {\n",
       "        vertical-align: top;\n",
       "    }\n",
       "\n",
       "    .dataframe thead th {\n",
       "        text-align: right;\n",
       "    }\n",
       "</style>\n",
       "<table border=\"1\" class=\"dataframe\">\n",
       "  <thead>\n",
       "    <tr style=\"text-align: right;\">\n",
       "      <th></th>\n",
       "      <th>id</th>\n",
       "      <th>rev</th>\n",
       "    </tr>\n",
       "  </thead>\n",
       "  <tbody>\n",
       "    <tr>\n",
       "      <th>0</th>\n",
       "      <td>581585</td>\n",
       "      <td>0.0</td>\n",
       "    </tr>\n",
       "    <tr>\n",
       "      <th>1</th>\n",
       "      <td>5723133</td>\n",
       "      <td>0.0</td>\n",
       "    </tr>\n",
       "    <tr>\n",
       "      <th>2</th>\n",
       "      <td>3276743</td>\n",
       "      <td>0.0</td>\n",
       "    </tr>\n",
       "    <tr>\n",
       "      <th>3</th>\n",
       "      <td>4238589</td>\n",
       "      <td>0.0</td>\n",
       "    </tr>\n",
       "    <tr>\n",
       "      <th>4</th>\n",
       "      <td>4475369</td>\n",
       "      <td>0.0</td>\n",
       "    </tr>\n",
       "    <tr>\n",
       "      <th>...</th>\n",
       "      <td>...</td>\n",
       "      <td>...</td>\n",
       "    </tr>\n",
       "    <tr>\n",
       "      <th>8336</th>\n",
       "      <td>1794344</td>\n",
       "      <td>0.0</td>\n",
       "    </tr>\n",
       "    <tr>\n",
       "      <th>8337</th>\n",
       "      <td>296883</td>\n",
       "      <td>0.0</td>\n",
       "    </tr>\n",
       "    <tr>\n",
       "      <th>8338</th>\n",
       "      <td>3598448</td>\n",
       "      <td>0.0</td>\n",
       "    </tr>\n",
       "    <tr>\n",
       "      <th>8339</th>\n",
       "      <td>3610547</td>\n",
       "      <td>290.0</td>\n",
       "    </tr>\n",
       "    <tr>\n",
       "      <th>8340</th>\n",
       "      <td>205705</td>\n",
       "      <td>0.0</td>\n",
       "    </tr>\n",
       "  </tbody>\n",
       "</table>\n",
       "<p>8341 rows × 2 columns</p>\n",
       "</div>"
      ],
      "text/plain": [
       "           id    rev\n",
       "0      581585    0.0\n",
       "1     5723133    0.0\n",
       "2     3276743    0.0\n",
       "3     4238589    0.0\n",
       "4     4475369    0.0\n",
       "...       ...    ...\n",
       "8336  1794344    0.0\n",
       "8337   296883    0.0\n",
       "8338  3598448    0.0\n",
       "8339  3610547  290.0\n",
       "8340   205705    0.0\n",
       "\n",
       "[8341 rows x 2 columns]"
      ]
     },
     "execution_count": 144,
     "metadata": {},
     "output_type": "execute_result"
    }
   ],
   "source": [
    "df_1 = active_studs.merge(checks, how = 'left', on = 'student_id').fillna(0)\n",
    "df_1 = df_1.rename(columns={'student_id': 'id'})\n",
    "df_1\n",
    "# Так как у нас есть файл в котором указано \"файл с пользователями, которые зашли именно в дни проведения эксперимента\", \n",
    "# сделаем 'left join' по этому файлу."
   ]
  },
  {
   "cell_type": "code",
   "execution_count": 145,
   "metadata": {
    "scrolled": false
   },
   "outputs": [
    {
     "data": {
      "text/html": [
       "<div>\n",
       "<style scoped>\n",
       "    .dataframe tbody tr th:only-of-type {\n",
       "        vertical-align: middle;\n",
       "    }\n",
       "\n",
       "    .dataframe tbody tr th {\n",
       "        vertical-align: top;\n",
       "    }\n",
       "\n",
       "    .dataframe thead th {\n",
       "        text-align: right;\n",
       "    }\n",
       "</style>\n",
       "<table border=\"1\" class=\"dataframe\">\n",
       "  <thead>\n",
       "    <tr style=\"text-align: right;\">\n",
       "      <th></th>\n",
       "      <th>id</th>\n",
       "      <th>not_active</th>\n",
       "      <th>rev</th>\n",
       "      <th>buy</th>\n",
       "    </tr>\n",
       "  </thead>\n",
       "  <tbody>\n",
       "    <tr>\n",
       "      <th>0</th>\n",
       "      <td>1627</td>\n",
       "      <td>A</td>\n",
       "      <td>990.0</td>\n",
       "      <td>1</td>\n",
       "    </tr>\n",
       "    <tr>\n",
       "      <th>1</th>\n",
       "      <td>2085</td>\n",
       "      <td>B</td>\n",
       "      <td>0.0</td>\n",
       "      <td>0</td>\n",
       "    </tr>\n",
       "    <tr>\n",
       "      <th>2</th>\n",
       "      <td>2215</td>\n",
       "      <td>B</td>\n",
       "      <td>0.0</td>\n",
       "      <td>0</td>\n",
       "    </tr>\n",
       "    <tr>\n",
       "      <th>3</th>\n",
       "      <td>3391</td>\n",
       "      <td>A</td>\n",
       "      <td>0.0</td>\n",
       "      <td>0</td>\n",
       "    </tr>\n",
       "    <tr>\n",
       "      <th>4</th>\n",
       "      <td>3401</td>\n",
       "      <td>B</td>\n",
       "      <td>0.0</td>\n",
       "      <td>0</td>\n",
       "    </tr>\n",
       "    <tr>\n",
       "      <th>...</th>\n",
       "      <td>...</td>\n",
       "      <td>...</td>\n",
       "      <td>...</td>\n",
       "      <td>...</td>\n",
       "    </tr>\n",
       "    <tr>\n",
       "      <th>8336</th>\n",
       "      <td>5760471</td>\n",
       "      <td>B</td>\n",
       "      <td>0.0</td>\n",
       "      <td>0</td>\n",
       "    </tr>\n",
       "    <tr>\n",
       "      <th>8337</th>\n",
       "      <td>5777081</td>\n",
       "      <td>B</td>\n",
       "      <td>0.0</td>\n",
       "      <td>0</td>\n",
       "    </tr>\n",
       "    <tr>\n",
       "      <th>8338</th>\n",
       "      <td>5870856</td>\n",
       "      <td>A</td>\n",
       "      <td>0.0</td>\n",
       "      <td>0</td>\n",
       "    </tr>\n",
       "    <tr>\n",
       "      <th>8339</th>\n",
       "      <td>5945085</td>\n",
       "      <td>B</td>\n",
       "      <td>0.0</td>\n",
       "      <td>0</td>\n",
       "    </tr>\n",
       "    <tr>\n",
       "      <th>8340</th>\n",
       "      <td>5951797</td>\n",
       "      <td>B</td>\n",
       "      <td>0.0</td>\n",
       "      <td>0</td>\n",
       "    </tr>\n",
       "  </tbody>\n",
       "</table>\n",
       "<p>8341 rows × 4 columns</p>\n",
       "</div>"
      ],
      "text/plain": [
       "           id not_active    rev  buy\n",
       "0        1627          A  990.0    1\n",
       "1        2085          B    0.0    0\n",
       "2        2215          B    0.0    0\n",
       "3        3391          A    0.0    0\n",
       "4        3401          B    0.0    0\n",
       "...       ...        ...    ...  ...\n",
       "8336  5760471          B    0.0    0\n",
       "8337  5777081          B    0.0    0\n",
       "8338  5870856          A    0.0    0\n",
       "8339  5945085          B    0.0    0\n",
       "8340  5951797          B    0.0    0\n",
       "\n",
       "[8341 rows x 4 columns]"
      ]
     },
     "execution_count": 145,
     "metadata": {},
     "output_type": "execute_result"
    }
   ],
   "source": [
    "dataset        = full_groups.merge(df_1, on = 'id')\n",
    "dataset        = dataset.rename(columns={'grp' : 'not_active'})\n",
    "dataset['buy'] = np.where(dataset.rev == 0, 0, 1)\n",
    "dataset\n",
    "# добавим колонку, в которой будет указано, была ли оплата"
   ]
  },
  {
   "cell_type": "code",
   "execution_count": 146,
   "metadata": {},
   "outputs": [
    {
     "data": {
      "text/html": [
       "<div>\n",
       "<style scoped>\n",
       "    .dataframe tbody tr th:only-of-type {\n",
       "        vertical-align: middle;\n",
       "    }\n",
       "\n",
       "    .dataframe tbody tr th {\n",
       "        vertical-align: top;\n",
       "    }\n",
       "\n",
       "    .dataframe thead th {\n",
       "        text-align: right;\n",
       "    }\n",
       "</style>\n",
       "<table border=\"1\" class=\"dataframe\">\n",
       "  <thead>\n",
       "    <tr style=\"text-align: right;\">\n",
       "      <th></th>\n",
       "      <th>id</th>\n",
       "      <th>active</th>\n",
       "      <th>rev</th>\n",
       "      <th>buy</th>\n",
       "    </tr>\n",
       "  </thead>\n",
       "  <tbody>\n",
       "    <tr>\n",
       "      <th>0</th>\n",
       "      <td>1627</td>\n",
       "      <td>A</td>\n",
       "      <td>990.0000</td>\n",
       "      <td>1</td>\n",
       "    </tr>\n",
       "    <tr>\n",
       "      <th>10</th>\n",
       "      <td>100300</td>\n",
       "      <td>B</td>\n",
       "      <td>990.0000</td>\n",
       "      <td>1</td>\n",
       "    </tr>\n",
       "    <tr>\n",
       "      <th>12</th>\n",
       "      <td>108270</td>\n",
       "      <td>B</td>\n",
       "      <td>290.0000</td>\n",
       "      <td>1</td>\n",
       "    </tr>\n",
       "    <tr>\n",
       "      <th>246</th>\n",
       "      <td>264473</td>\n",
       "      <td>B</td>\n",
       "      <td>1900.0001</td>\n",
       "      <td>1</td>\n",
       "    </tr>\n",
       "    <tr>\n",
       "      <th>279</th>\n",
       "      <td>274352</td>\n",
       "      <td>B</td>\n",
       "      <td>690.0000</td>\n",
       "      <td>1</td>\n",
       "    </tr>\n",
       "    <tr>\n",
       "      <th>...</th>\n",
       "      <td>...</td>\n",
       "      <td>...</td>\n",
       "      <td>...</td>\n",
       "      <td>...</td>\n",
       "    </tr>\n",
       "    <tr>\n",
       "      <th>8312</th>\n",
       "      <td>5645737</td>\n",
       "      <td>B</td>\n",
       "      <td>1900.0000</td>\n",
       "      <td>1</td>\n",
       "    </tr>\n",
       "    <tr>\n",
       "      <th>8314</th>\n",
       "      <td>5651566</td>\n",
       "      <td>B</td>\n",
       "      <td>1900.0000</td>\n",
       "      <td>1</td>\n",
       "    </tr>\n",
       "    <tr>\n",
       "      <th>8316</th>\n",
       "      <td>5662322</td>\n",
       "      <td>B</td>\n",
       "      <td>1900.0000</td>\n",
       "      <td>1</td>\n",
       "    </tr>\n",
       "    <tr>\n",
       "      <th>8323</th>\n",
       "      <td>5681918</td>\n",
       "      <td>B</td>\n",
       "      <td>1900.0000</td>\n",
       "      <td>1</td>\n",
       "    </tr>\n",
       "    <tr>\n",
       "      <th>8335</th>\n",
       "      <td>5740903</td>\n",
       "      <td>B</td>\n",
       "      <td>1900.0000</td>\n",
       "      <td>1</td>\n",
       "    </tr>\n",
       "  </tbody>\n",
       "</table>\n",
       "<p>392 rows × 4 columns</p>\n",
       "</div>"
      ],
      "text/plain": [
       "           id active        rev  buy\n",
       "0        1627      A   990.0000    1\n",
       "10     100300      B   990.0000    1\n",
       "12     108270      B   290.0000    1\n",
       "246    264473      B  1900.0001    1\n",
       "279    274352      B   690.0000    1\n",
       "...       ...    ...        ...  ...\n",
       "8312  5645737      B  1900.0000    1\n",
       "8314  5651566      B  1900.0000    1\n",
       "8316  5662322      B  1900.0000    1\n",
       "8323  5681918      B  1900.0000    1\n",
       "8335  5740903      B  1900.0000    1\n",
       "\n",
       "[392 rows x 4 columns]"
      ]
     },
     "execution_count": 146,
     "metadata": {},
     "output_type": "execute_result"
    }
   ],
   "source": [
    "dataset_2 = dataset.query('buy > 0')\n",
    "dataset_2 = dataset_2.rename(columns={'not_active' : 'active'})\n",
    "dataset_2\n",
    "# таблица только с теми, кто оплатил в дни проведения эксперимента"
   ]
  },
  {
   "cell_type": "markdown",
   "metadata": {},
   "source": [
    "В итоге мы имеем количество оплативших в дни эксперимента, разделение на группы, суммы оплат.\n",
    "\n",
    "В связи с этим, далее я принимаю решение рассчитывать конверсию, ARPU и ARPPU.\n",
    "\n",
    "P.S. Замечаем, что просто оплативших пользователей в дни эксперемента из файла checks - 541, а тех, кто проявил активность и оплатил 392. Соотвественно, мы имеем 149 пользователей, которые оплатили, но не проявили активности на сайте. Возможно, стоит проверить их на баги/автооплату.\n",
    "\n",
    "Далее учитывать их не будем."
   ]
  },
  {
   "cell_type": "markdown",
   "metadata": {},
   "source": [
    "# Расчёт CR"
   ]
  },
  {
   "cell_type": "code",
   "execution_count": 147,
   "metadata": {},
   "outputs": [
    {
     "data": {
      "text/html": [
       "<div>\n",
       "<style scoped>\n",
       "    .dataframe tbody tr th:only-of-type {\n",
       "        vertical-align: middle;\n",
       "    }\n",
       "\n",
       "    .dataframe tbody tr th {\n",
       "        vertical-align: top;\n",
       "    }\n",
       "\n",
       "    .dataframe thead th {\n",
       "        text-align: right;\n",
       "    }\n",
       "</style>\n",
       "<table border=\"1\" class=\"dataframe\">\n",
       "  <thead>\n",
       "    <tr style=\"text-align: right;\">\n",
       "      <th></th>\n",
       "      <th>group</th>\n",
       "      <th>not_active</th>\n",
       "      <th>active</th>\n",
       "      <th>CR</th>\n",
       "    </tr>\n",
       "  </thead>\n",
       "  <tbody>\n",
       "    <tr>\n",
       "      <th>0</th>\n",
       "      <td>B</td>\n",
       "      <td>6803</td>\n",
       "      <td>314</td>\n",
       "      <td>0.046156</td>\n",
       "    </tr>\n",
       "    <tr>\n",
       "      <th>1</th>\n",
       "      <td>A</td>\n",
       "      <td>1538</td>\n",
       "      <td>78</td>\n",
       "      <td>0.050715</td>\n",
       "    </tr>\n",
       "  </tbody>\n",
       "</table>\n",
       "</div>"
      ],
      "text/plain": [
       "  group  not_active  active        CR\n",
       "0     B        6803     314  0.046156\n",
       "1     A        1538      78  0.050715"
      ]
     },
     "execution_count": 147,
     "metadata": {},
     "output_type": "execute_result"
    }
   ],
   "source": [
    "dataset_3       = pd.concat([dataset.not_active.value_counts(), dataset_2.active.value_counts()], axis = 1)\n",
    "dataset_3       = dataset_3.reset_index()\n",
    "dataset_3       = dataset_3.rename(columns={'index' : 'group'})\n",
    "dataset_3['CR'] = (dataset_3.active/dataset_3.not_active)\n",
    "dataset_3"
   ]
  },
  {
   "cell_type": "markdown",
   "metadata": {},
   "source": [
    "Мы видим, что CR в группе B ниже, чем в группе A. Так как у нас используются номинативные переменные(есть оплата и нет оплаты), то воспользуемся статистическим тестом - критерием хи-квадрата.\n",
    "\n",
    "H0: Новая механика оплаты услуг не повлияла на CR\n",
    "\n",
    "H1: Новая механика оплаты услуг повлияла на CR"
   ]
  },
  {
   "cell_type": "code",
   "execution_count": 148,
   "metadata": {},
   "outputs": [],
   "source": [
    "stat, p, expected, dof = ss.chi2_contingency(pd.crosstab(dataset.not_active, dataset.buy))"
   ]
  },
  {
   "cell_type": "code",
   "execution_count": 149,
   "metadata": {},
   "outputs": [
    {
     "data": {
      "text/plain": [
       "(0.48480826522557896, 0.48625240457231045)"
      ]
     },
     "execution_count": 149,
     "metadata": {},
     "output_type": "execute_result"
    }
   ],
   "source": [
    " stat, p"
   ]
  },
  {
   "cell_type": "markdown",
   "metadata": {},
   "source": [
    "Мы не отклоняем H0, т.к. p-значение не меньше 0,05. => статистически значимых различий нет.\n",
    "В связи с этим мы не можем утверждать, что новая система оплаты успешна."
   ]
  },
  {
   "cell_type": "markdown",
   "metadata": {},
   "source": [
    "# Расчёт ARPU и ARPPU"
   ]
  },
  {
   "cell_type": "code",
   "execution_count": 150,
   "metadata": {},
   "outputs": [
    {
     "data": {
      "text/html": [
       "<div>\n",
       "<style scoped>\n",
       "    .dataframe tbody tr th:only-of-type {\n",
       "        vertical-align: middle;\n",
       "    }\n",
       "\n",
       "    .dataframe tbody tr th {\n",
       "        vertical-align: top;\n",
       "    }\n",
       "\n",
       "    .dataframe thead th {\n",
       "        text-align: right;\n",
       "    }\n",
       "</style>\n",
       "<table border=\"1\" class=\"dataframe\">\n",
       "  <thead>\n",
       "    <tr style=\"text-align: right;\">\n",
       "      <th></th>\n",
       "      <th>group</th>\n",
       "      <th>rev</th>\n",
       "      <th>count_buy</th>\n",
       "      <th>count_all</th>\n",
       "      <th>ARPU</th>\n",
       "      <th>ARPPU</th>\n",
       "      <th>CR</th>\n",
       "    </tr>\n",
       "  </thead>\n",
       "  <tbody>\n",
       "    <tr>\n",
       "      <th>0</th>\n",
       "      <td>A</td>\n",
       "      <td>72820.0000</td>\n",
       "      <td>78</td>\n",
       "      <td>1538</td>\n",
       "      <td>47.347204</td>\n",
       "      <td>933.589744</td>\n",
       "      <td>0.050715</td>\n",
       "    </tr>\n",
       "    <tr>\n",
       "      <th>1</th>\n",
       "      <td>B</td>\n",
       "      <td>394974.0035</td>\n",
       "      <td>314</td>\n",
       "      <td>6803</td>\n",
       "      <td>58.058798</td>\n",
       "      <td>1257.878992</td>\n",
       "      <td>0.046156</td>\n",
       "    </tr>\n",
       "  </tbody>\n",
       "</table>\n",
       "</div>"
      ],
      "text/plain": [
       "  group          rev  count_buy  count_all       ARPU        ARPPU        CR\n",
       "0     A   72820.0000         78       1538  47.347204   933.589744  0.050715\n",
       "1     B  394974.0035        314       6803  58.058798  1257.878992  0.046156"
      ]
     },
     "execution_count": 150,
     "metadata": {},
     "output_type": "execute_result"
    }
   ],
   "source": [
    "dataset_count                 = dataset.groupby(['not_active'], as_index = False) \\\n",
    ".agg({'rev' : 'sum'})\\\n",
    ".rename(columns={'not_active' : 'group'})\n",
    "dataset_count ['count_buy']   = dataset_3['active']\n",
    "dataset_count [ 'count_all']  = dataset_3['not_active']\n",
    "dataset_count ['count_buy']   = dataset_count['count_buy'].tolist()[::-1]\n",
    "dataset_count ['count_all']   = dataset_count['count_all'].tolist()[::-1]\n",
    "dataset_count ['ARPU']        = dataset_count['rev']/dataset_count ['count_all']\n",
    "dataset_count [ 'ARPPU']      = dataset_count['rev']/dataset_count ['count_buy']\n",
    "dataset_count ['CR']          = dataset_3['CR'].tolist()[::-1]\n",
    "dataset_count"
   ]
  },
  {
   "cell_type": "code",
   "execution_count": 151,
   "metadata": {},
   "outputs": [
    {
     "data": {
      "text/plain": [
       "22.62349832959378"
      ]
     },
     "execution_count": 151,
     "metadata": {},
     "output_type": "execute_result"
    }
   ],
   "source": [
    "((dataset_count['ARPU'][1] - dataset_count['ARPU'][0]) / dataset_count['ARPU'][0]) * 100"
   ]
  },
  {
   "cell_type": "code",
   "execution_count": 152,
   "metadata": {},
   "outputs": [
    {
     "data": {
      "text/plain": [
       "34.73573383545856"
      ]
     },
     "execution_count": 152,
     "metadata": {},
     "output_type": "execute_result"
    }
   ],
   "source": [
    "((dataset_count['ARPPU'][1] - dataset_count['ARPPU'][0]) / dataset_count['ARPPU'][0]) * 100"
   ]
  },
  {
   "cell_type": "code",
   "execution_count": 153,
   "metadata": {},
   "outputs": [
    {
     "data": {
      "text/plain": [
       "-8.98962373311925"
      ]
     },
     "execution_count": 153,
     "metadata": {},
     "output_type": "execute_result"
    }
   ],
   "source": [
    "((dataset_count['CR'][1] - dataset_count['CR'][0]) / dataset_count['CR'][0]) * 100"
   ]
  },
  {
   "cell_type": "code",
   "execution_count": 158,
   "metadata": {},
   "outputs": [],
   "source": [
    "# Подводим промежуточные итоги:\n",
    "# 1) Конверсия в  группе В меньше на 8.9% чем в группе А\n",
    "# 2) ARPPU в группе В больше на 34.7%\n",
    "# 3) ARPU группе В больше на 22.6%\n",
    "# Итого средняя цена чека выросла, при меньшей конверсии"
   ]
  },
  {
   "cell_type": "markdown",
   "metadata": {},
   "source": []
  },
  {
   "cell_type": "code",
   "execution_count": 159,
   "metadata": {},
   "outputs": [],
   "source": [
    "# Проверим, статистически значимы ли эти различия или нет (ARPPU) при помощи Т-теста(который подходит для средних значений)\n",
    "# Н0 - новый вариант оплаты не повлиял на средний чек\n",
    "# Н1 - новый вариант оплаты повлиял на средний чек"
   ]
  },
  {
   "cell_type": "markdown",
   "metadata": {},
   "source": [
    "Сначала используем тест Левена для проверки дисперсий."
   ]
  },
  {
   "cell_type": "code",
   "execution_count": 178,
   "metadata": {},
   "outputs": [],
   "source": [
    "dataset_A = dataset_2.query(\"active == 'A'\")['rev']\n",
    "dataset_B = dataset_2.query(\"active == 'B'\")['rev']"
   ]
  },
  {
   "cell_type": "code",
   "execution_count": 161,
   "metadata": {},
   "outputs": [],
   "source": [
    "pvalue_ab_levene = ss.levene(dataset_A, dataset_B)"
   ]
  },
  {
   "cell_type": "code",
   "execution_count": 162,
   "metadata": {},
   "outputs": [
    {
     "data": {
      "text/plain": [
       "False"
      ]
     },
     "execution_count": 162,
     "metadata": {},
     "output_type": "execute_result"
    }
   ],
   "source": [
    "pvalue_ab_levene[1] < 0.05"
   ]
  },
  {
   "cell_type": "code",
   "execution_count": 163,
   "metadata": {},
   "outputs": [],
   "source": [
    "# Дисперсия между двумя группами равна"
   ]
  },
  {
   "cell_type": "markdown",
   "metadata": {},
   "source": [
    "Далее проверим, является ли распределение нормальным при помощи критерия Шапиро-Уилка"
   ]
  },
  {
   "cell_type": "code",
   "execution_count": 164,
   "metadata": {},
   "outputs": [],
   "source": [
    "p_value_a_shapiro = shapiro(dataset_A)"
   ]
  },
  {
   "cell_type": "code",
   "execution_count": 165,
   "metadata": {
    "scrolled": true
   },
   "outputs": [
    {
     "data": {
      "text/plain": [
       "True"
      ]
     },
     "execution_count": 165,
     "metadata": {},
     "output_type": "execute_result"
    }
   ],
   "source": [
    "p_value_a_shapiro[1] < 0.05"
   ]
  },
  {
   "cell_type": "code",
   "execution_count": 166,
   "metadata": {},
   "outputs": [],
   "source": [
    "p_value_b_shapiro = shapiro(dataset_B)"
   ]
  },
  {
   "cell_type": "code",
   "execution_count": 167,
   "metadata": {
    "scrolled": true
   },
   "outputs": [
    {
     "data": {
      "text/plain": [
       "True"
      ]
     },
     "execution_count": 167,
     "metadata": {},
     "output_type": "execute_result"
    }
   ],
   "source": [
    "p_value_b_shapiro[1] < 0.05"
   ]
  },
  {
   "cell_type": "code",
   "execution_count": 168,
   "metadata": {},
   "outputs": [],
   "source": [
    "# Распределение не является нормальным"
   ]
  },
  {
   "cell_type": "code",
   "execution_count": null,
   "metadata": {},
   "outputs": [],
   "source": [
    "# P.S. Сначала, я хотел завернуть ттест, т.к. распределение не является нормальным, однако, в процессе ознакомления со статьёй \n",
    "# на habr (https://habr.com/ru/companies/glowbyte/articles/594183/), я выяснил, что \"даже при маленьких выборках с ненормальным \n",
    "# распределением тест Стьюдента надёжен\". Поэтому было принято решение завершить ттест."
   ]
  },
  {
   "cell_type": "code",
   "execution_count": 199,
   "metadata": {
    "scrolled": false
   },
   "outputs": [],
   "source": [
    "ttest = ss.ttest_ind(dataset_A, dataset_B)"
   ]
  },
  {
   "cell_type": "code",
   "execution_count": 201,
   "metadata": {},
   "outputs": [
    {
     "data": {
      "text/plain": [
       "True"
      ]
     },
     "execution_count": 201,
     "metadata": {},
     "output_type": "execute_result"
    }
   ],
   "source": [
    "ttest[1] < 0.05"
   ]
  },
  {
   "cell_type": "markdown",
   "metadata": {},
   "source": [
    "Поскольку p-значение меньше 0,05, мы отклоняем нулевую гипотезу.\n",
    "\n",
    "Новый вариант оплаты повлиял на средний чек."
   ]
  },
  {
   "cell_type": "markdown",
   "metadata": {},
   "source": [
    "# ВЫВОД"
   ]
  },
  {
   "cell_type": "markdown",
   "metadata": {},
   "source": [
    "В ходе анализа данных, мы рассмотрели такие метрики как CR, ARPU и ARPPU, т.к. это самые доступные и подходящие метрики исходя из тех данных, что нам предоставили.\n",
    "\n",
    "Проведя тесты и анализ данных, мы может сделать следующие выводы:\n",
    "\n",
    "Конверсия пользователей при новой системе оплаты изменилось статистически незначимо, что было подтверждено тестом.\n",
    "\n",
    "Средний чек пользователей при новой механике оплаты статистически значимо вырос.\n",
    "\n",
    "Несмотря на небольшое уменьшение конверсии, средний чек вырос, следовательно \n",
    "новая механика оплаты положительно влияет на итоговый результат."
   ]
  },
  {
   "cell_type": "markdown",
   "metadata": {},
   "source": [
    "# Задание 2. SQL"
   ]
  },
  {
   "cell_type": "markdown",
   "metadata": {},
   "source": [
    "Задание 2.1"
   ]
  },
  {
   "cell_type": "markdown",
   "metadata": {},
   "source": [
    "Необходимо написать оптимальный запрос, который даст информацию о количестве очень усердных студентов.\n",
    "\n",
    "Условие:\n",
    "    \n",
    "Образовательные курсы состоят из различных уроков, каждый из которых состоит из нескольких маленьких заданий. \n",
    "\n",
    "Каждое такое маленькое задание называется \"горошиной\".Назовём очень усердным учеником того пользователя, который хотя бы раз за текущий месяц правильно решил 20 горошин."
   ]
  },
  {
   "cell_type": "code",
   "execution_count": 221,
   "metadata": {},
   "outputs": [],
   "source": [
    "# параметры подключения\n",
    "connection_default = {'host': 'https://clickhouse.lab.karpov.courses',\n",
    "                      'database':'default',\n",
    "                      'user':'student', \n",
    "                      'password':'dpo_python_2020'\n",
    "                     }"
   ]
  },
  {
   "cell_type": "code",
   "execution_count": 226,
   "metadata": {},
   "outputs": [],
   "source": [
    "qqq = \"\"\"\n",
    "\n",
    "SELECT\n",
    "  COUNT(st_id) as count_st\n",
    "FROM\n",
    "  (\n",
    "    SELECT\n",
    "      st_id,\n",
    "      COUNT(correct) as count_correct,\n",
    "      toYear(timest) AS year,\n",
    "      toMonth(timest) AS month\n",
    "    FROM\n",
    "      default.peas\n",
    "    WHERE\n",
    "      correct = 1\n",
    "    group by\n",
    "      st_id,\n",
    "      year,\n",
    "      month\n",
    "    HAVING\n",
    "      count_correct >= 20\n",
    "  ) as info\n",
    "\"\"\"\n",
    "dataset_students = ph.read_clickhouse(qqq, connection=connection_default)"
   ]
  },
  {
   "cell_type": "markdown",
   "metadata": {},
   "source": [
    "Ответ: 136 усердных учеников"
   ]
  },
  {
   "cell_type": "markdown",
   "metadata": {},
   "source": [
    "---------------------------------------------------------------------"
   ]
  },
  {
   "cell_type": "markdown",
   "metadata": {},
   "source": [
    "Задание 2.1"
   ]
  },
  {
   "cell_type": "markdown",
   "metadata": {},
   "source": [
    "Образовательная платформа предлагает пройти студентам курсы по модели trial: студент может решить бесплатно лишь 30 горошин в день. Для неограниченного количества заданий в определенной дисциплине студенту необходимо приобрести полный доступ. Команда провела эксперимент, где был протестирован новый экран оплаты."
   ]
  },
  {
   "cell_type": "code",
   "execution_count": 246,
   "metadata": {},
   "outputs": [],
   "source": [
    "aaa = \"\"\"\n",
    "\n",
    "WITH grp as (\n",
    "  select\n",
    "    distinct test_grp\n",
    "  from\n",
    "    default.studs\n",
    "),\n",
    "active_users as (\n",
    "  SELECT\n",
    "    DISTINCT test_grp,\n",
    "    st_id AS st_id\n",
    "  FROM\n",
    "    (\n",
    "      SELECT\n",
    "        test_grp,\n",
    "        st_id\n",
    "      FROM\n",
    "        default.peas\n",
    "        join default.studs as st using (st_id)\n",
    "      WHERE\n",
    "        correct = 1\n",
    "      GROUP BY\n",
    "        test_grp,\n",
    "        st_id\n",
    "      HAVING\n",
    "        count(correct) > 10\n",
    "    )\n",
    "),\n",
    "active_users_agg as (\n",
    "  SELECT\n",
    "    test_grp,\n",
    "    count(distinct(st_id)) as stds_id,\n",
    "    sum(money) as money\n",
    "  FROM\n",
    "    active_users as au\n",
    "    LEFT JOIN default.final_project_check ON au.st_id = default.final_project_check.st_id\n",
    "  group by\n",
    "    test_grp\n",
    "),\n",
    "count_studs_all as (\n",
    "  SELECT\n",
    "    test_grp,stds_id,money\n",
    "  FROM\n",
    "    (\n",
    "      SELECT\n",
    "        test_grp,COUNT(DISTINCT(default.studs.st_id)) as stds_id,\n",
    "        SUM(money) as money\n",
    "      FROM\n",
    "        default.studs\n",
    "        LEFT JOIN default.final_project_check ON default.studs.st_id = default.final_project_check.st_id\n",
    "        group by test_grp\n",
    "    )\n",
    "),\n",
    "count_studs as (\n",
    "  SELECT\n",
    "    test_grp,stds_id\n",
    "  FROM\n",
    "    (\n",
    "      SELECT\n",
    "        test_grp,COUNT(DISTINCT(default.final_project_check.st_id)) as stds_id\n",
    "      FROM\n",
    "        default.studs\n",
    "        LEFT JOIN default.final_project_check ON default.studs.st_id = default.final_project_check.st_id\n",
    "        group by test_grp\n",
    "    )\n",
    "),\n",
    "count_studs_maths as (\n",
    "  SELECT\n",
    "    test_grp,stds_id\n",
    "  FROM\n",
    "    (\n",
    "      SELECT\n",
    "        test_grp,COUNT(DISTINCT(default.final_project_check.st_id)) as stds_id\n",
    "      FROM\n",
    "        default.studs\n",
    "        LEFT JOIN default.final_project_check ON default.studs.st_id = default.final_project_check.st_id\n",
    "      WHERE\n",
    "        default.final_project_check.subject = 'Math'\n",
    "    group by test_grp\n",
    "    )\n",
    "),\n",
    "active_math_users as (\n",
    "  SELECT\n",
    "    DISTINCT test_grp,st_id as st_id\n",
    "  FROM\n",
    "    (\n",
    "      SELECT\n",
    "        test_grp,st_id\n",
    "      FROM\n",
    "        default.peas\n",
    "        join default.studs using  (st_id)\n",
    "      WHERE\n",
    "        correct = 1\n",
    "        and subject = 'Math'\n",
    "      GROUP BY\n",
    "        test_grp,st_id\n",
    "      HAVING\n",
    "        COUNT(correct) >= 2\n",
    "    )\n",
    "),\n",
    "active_math_users_agg as (\n",
    "  SELECT\n",
    "    test_grp,\n",
    "    count(distinct(st_id)) as stds_id,\n",
    "    sum(money) as money\n",
    "  FROM\n",
    "    active_math_users as au\n",
    "    LEFT JOIN default.final_project_check ON au.st_id = default.final_project_check.st_id\n",
    "  group by\n",
    "    test_grp\n",
    ")\n",
    "SELECT\n",
    "  grp.test_grp,\n",
    "  ARPU,\n",
    "  ARPAU,\n",
    "  CR,\n",
    "  CR_active,\n",
    "  CR_math_active\n",
    "from\n",
    "  grp\n",
    "  join (\n",
    "    select\n",
    "      test_grp,\n",
    "      money/stds_id as ARPU\n",
    "    from\n",
    "      count_studs_all\n",
    "  ) as ARPU ON ARPU.test_grp = grp.test_grp\n",
    "  join (\n",
    "    select\n",
    "      test_grp,\n",
    "      money/stds_id as ARPAU\n",
    "    from\n",
    "      active_users_agg\n",
    "  ) as ARPAU ON ARPAU.test_grp = grp.test_grp\n",
    "  join (\n",
    "    select\n",
    "      test_grp,\n",
    "      COUNT(DISTINCT(default.final_project_check.st_id)) / COUNT(DISTINCT(default.studs.st_id)) as CR\n",
    "    from\n",
    "      default.studs\n",
    "      LEFT JOIN default.final_project_check ON default.studs.st_id = default.final_project_check.st_id\n",
    "    group by\n",
    "      test_grp\n",
    "  ) as CR ON CR.test_grp = grp.test_grp\n",
    "  JOIN\n",
    "  (\n",
    "    select\n",
    "      test_grp,cs.stds_id/aug.stds_id as CR_active\n",
    "    from\n",
    "      active_users_agg as aug\n",
    "      JOIN count_studs cs using (test_grp)\n",
    "  ) as CR_active ON CR_active.test_grp = grp.test_grp\n",
    "  JOIN\n",
    "  (\n",
    "    select\n",
    "      test_grp,cs.stds_id/aug.stds_id as CR_math_active\n",
    "    from\n",
    "      active_math_users_agg as aug\n",
    "      JOIN count_studs_maths cs using (test_grp)\n",
    "  ) as CR_math_active ON CR_math_active.test_grp = grp.test_grp\n",
    "\"\"\""
   ]
  },
  {
   "cell_type": "code",
   "execution_count": 247,
   "metadata": {},
   "outputs": [
    {
     "data": {
      "text/html": [
       "<div>\n",
       "<style scoped>\n",
       "    .dataframe tbody tr th:only-of-type {\n",
       "        vertical-align: middle;\n",
       "    }\n",
       "\n",
       "    .dataframe tbody tr th {\n",
       "        vertical-align: top;\n",
       "    }\n",
       "\n",
       "    .dataframe thead th {\n",
       "        text-align: right;\n",
       "    }\n",
       "</style>\n",
       "<table border=\"1\" class=\"dataframe\">\n",
       "  <thead>\n",
       "    <tr style=\"text-align: right;\">\n",
       "      <th></th>\n",
       "      <th>grp.test_grp</th>\n",
       "      <th>ARPU</th>\n",
       "      <th>ARPAU</th>\n",
       "      <th>CR</th>\n",
       "      <th>CR_active</th>\n",
       "      <th>CR_math_active</th>\n",
       "    </tr>\n",
       "  </thead>\n",
       "  <tbody>\n",
       "    <tr>\n",
       "      <th>0</th>\n",
       "      <td>pilot</td>\n",
       "      <td>11508.474576</td>\n",
       "      <td>29739.583333</td>\n",
       "      <td>0.111864</td>\n",
       "      <td>0.343750</td>\n",
       "      <td>0.380952</td>\n",
       "    </tr>\n",
       "    <tr>\n",
       "      <th>1</th>\n",
       "      <td>control</td>\n",
       "      <td>4540.983607</td>\n",
       "      <td>10393.700787</td>\n",
       "      <td>0.052459</td>\n",
       "      <td>0.125984</td>\n",
       "      <td>0.163265</td>\n",
       "    </tr>\n",
       "  </tbody>\n",
       "</table>\n",
       "</div>"
      ],
      "text/plain": [
       "  grp.test_grp          ARPU         ARPAU        CR  CR_active  \\\n",
       "0        pilot  11508.474576  29739.583333  0.111864   0.343750   \n",
       "1      control   4540.983607  10393.700787  0.052459   0.125984   \n",
       "\n",
       "   CR_math_active  \n",
       "0        0.380952  \n",
       "1        0.163265  "
      ]
     },
     "execution_count": 247,
     "metadata": {},
     "output_type": "execute_result"
    }
   ],
   "source": [
    "aaa = ph.read_clickhouse(aaa, connection=connection_default)\n",
    "aaa"
   ]
  },
  {
   "cell_type": "markdown",
   "metadata": {},
   "source": [

   ]
  },
  {
   "cell_type": "code",
   "execution_count": null,
   "metadata": {},
   "outputs": [],
   "source": [
    
   ]
  }
 ],
 "metadata": {
  "kernelspec": {
   "display_name": "Python 3",
   "language": "python",
   "name": "python3"
  },
  "language_info": {
   "codemirror_mode": {
    "name": "ipython",
    "version": 3
   },
   "file_extension": ".py",
   "mimetype": "text/x-python",
   "name": "python",
   "nbconvert_exporter": "python",
   "pygments_lexer": "ipython3",
   "version": "3.7.3"
  }
 },
 "nbformat": 4,
 "nbformat_minor": 4
}
